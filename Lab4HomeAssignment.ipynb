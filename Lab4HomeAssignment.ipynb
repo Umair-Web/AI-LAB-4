{
 "cells": [
  {
   "cell_type": "code",
   "execution_count": 21,
   "id": "368f1585-c68b-48f3-a4b1-25dee085254d",
   "metadata": {},
   "outputs": [
    {
     "name": "stdout",
     "output_type": "stream",
     "text": [
      "Accuracy: 0.9478260869565217\n",
      "              precision    recall  f1-score   support\n",
      "\n",
      "          No       0.94      0.99      0.96        83\n",
      "         Yes       0.96      0.84      0.90        32\n",
      "\n",
      "    accuracy                           0.95       115\n",
      "   macro avg       0.95      0.92      0.93       115\n",
      "weighted avg       0.95      0.95      0.95       115\n",
      "\n",
      "Confusion Matrix:\n",
      "[[82  1]\n",
      " [ 5 27]]\n"
     ]
    }
   ],
   "source": [
    "from sklearn.model_selection import train_test_split\n",
    "from sklearn.preprocessing import StandardScaler\n",
    "from sklearn.naive_bayes import GaussianNB\n",
    "from sklearn.metrics import accuracy_score, classification_report, confusion_matrix\n",
    "import pandas as pd\n",
    "\n",
    "data=pd.read_csv(\"Thyroid_Diff.csv\")\n",
    "\n",
    "#Here it is selecting all input columns except X\n",
    "X = data.drop(columns=['Recurred'])  \n",
    "y = data['Recurred']\n",
    "\n",
    "# Encode categorical variables and standardize numerical ones\n",
    "X = pd.get_dummies(X, drop_first=True)\n",
    "scaler = StandardScaler()\n",
    "X_scaled = scaler.fit_transform(X)\n",
    "\n",
    "# Train/test split\n",
    "X_train, X_test, y_train, y_test = train_test_split(X_scaled, y, test_size=0.3, random_state=42)\n",
    "\n",
    "# Apply Naive Bayes\n",
    "model = GaussianNB()\n",
    "model.fit(X_train, y_train)\n",
    "\n",
    "# Predictions\n",
    "y_pred = knn.predict(X_test)\n",
    "\n",
    "# Evaluate\n",
    "print(\"Accuracy:\", accuracy_score(y_test, y_pred))\n",
    "print(classification_report(y_test, y_pred))\n",
    "\n",
    "conf_matrix = confusion_matrix(y_test, y_pred)\n",
    "print(\"Confusion Matrix:\")\n",
    "print(conf_matrix)"
   ]
  },
  {
   "cell_type": "code",
   "execution_count": null,
   "id": "a25bc7ac-8176-4fb6-9662-0b36aec58387",
   "metadata": {},
   "outputs": [],
   "source": []
  }
 ],
 "metadata": {
  "kernelspec": {
   "display_name": "Python 3 (ipykernel)",
   "language": "python",
   "name": "python3"
  },
  "language_info": {
   "codemirror_mode": {
    "name": "ipython",
    "version": 3
   },
   "file_extension": ".py",
   "mimetype": "text/x-python",
   "name": "python",
   "nbconvert_exporter": "python",
   "pygments_lexer": "ipython3",
   "version": "3.12.4"
  }
 },
 "nbformat": 4,
 "nbformat_minor": 5
}
